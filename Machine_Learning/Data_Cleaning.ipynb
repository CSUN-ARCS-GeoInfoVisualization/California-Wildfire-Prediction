{
 "cells": [
  {
   "cell_type": "code",
   "execution_count": 18,
   "id": "c72018ae-7c3c-4f76-84e4-37935108320e",
   "metadata": {
    "execution": {
     "iopub.execute_input": "2024-02-10T23:15:42.912853Z",
     "iopub.status.busy": "2024-02-10T23:15:42.912229Z",
     "iopub.status.idle": "2024-02-10T23:15:42.919821Z",
     "shell.execute_reply": "2024-02-10T23:15:42.917861Z",
     "shell.execute_reply.started": "2024-02-10T23:15:42.912824Z"
    }
   },
   "outputs": [],
   "source": [
    "#Load libaries\n",
    "import os\n",
    "import pandas as pd \n",
    "import seaborn as sns\n",
    "import numpy as np \n",
    "import matplotlib.pyplot as plt \n",
    "\n",
    "import warnings\n",
    "warnings.filterwarnings('ignore')"
   ]
  },
  {
   "cell_type": "code",
   "execution_count": 19,
   "id": "017b9915-e1e4-44dc-81f7-10c4efe9e6f4",
   "metadata": {
    "execution": {
     "iopub.execute_input": "2024-02-10T23:15:46.741694Z",
     "iopub.status.busy": "2024-02-10T23:15:46.741013Z",
     "iopub.status.idle": "2024-02-10T23:17:08.185793Z",
     "shell.execute_reply": "2024-02-10T23:17:08.184431Z",
     "shell.execute_reply.started": "2024-02-10T23:15:46.741628Z"
    }
   },
   "outputs": [],
   "source": [
    "# Load data\n",
    "df_2013 = pd.read_csv('Data/2013data_Elevation.csv')"
   ]
  },
  {
   "cell_type": "code",
   "execution_count": 31,
   "id": "7364160e-3e15-48d9-92ef-6e6418862cd6",
   "metadata": {
    "execution": {
     "iopub.execute_input": "2024-02-10T23:41:55.501944Z",
     "iopub.status.busy": "2024-02-10T23:41:55.501624Z",
     "iopub.status.idle": "2024-02-10T23:44:45.046987Z",
     "shell.execute_reply": "2024-02-10T23:44:45.043784Z",
     "shell.execute_reply.started": "2024-02-10T23:41:55.501914Z"
    }
   },
   "outputs": [],
   "source": [
    "df_2020 = pd.read_csv('Data/2020data_Elevation.csv')\n",
    "df_2021 = pd.read_csv('Data/2021data_Elevation.csv')"
   ]
  },
  {
   "cell_type": "code",
   "execution_count": 20,
   "id": "424e05d2-9289-4c6f-ab4b-60c5bfe293c0",
   "metadata": {
    "execution": {
     "iopub.execute_input": "2024-02-10T23:17:08.187830Z",
     "iopub.status.busy": "2024-02-10T23:17:08.187549Z",
     "iopub.status.idle": "2024-02-10T23:17:08.201614Z",
     "shell.execute_reply": "2024-02-10T23:17:08.200969Z",
     "shell.execute_reply.started": "2024-02-10T23:17:08.187803Z"
    }
   },
   "outputs": [
    {
     "data": {
      "text/html": [
       "<div>\n",
       "<style scoped>\n",
       "    .dataframe tbody tr th:only-of-type {\n",
       "        vertical-align: middle;\n",
       "    }\n",
       "\n",
       "    .dataframe tbody tr th {\n",
       "        vertical-align: top;\n",
       "    }\n",
       "\n",
       "    .dataframe thead th {\n",
       "        text-align: right;\n",
       "    }\n",
       "</style>\n",
       "<table border=\"1\" class=\"dataframe\">\n",
       "  <thead>\n",
       "    <tr style=\"text-align: right;\">\n",
       "      <th></th>\n",
       "      <th>Date</th>\n",
       "      <th>Longitude</th>\n",
       "      <th>Latitude</th>\n",
       "      <th>EVI</th>\n",
       "      <th>TA</th>\n",
       "      <th>LST</th>\n",
       "      <th>Wind</th>\n",
       "      <th>Fire</th>\n",
       "      <th>Elevation</th>\n",
       "    </tr>\n",
       "  </thead>\n",
       "  <tbody>\n",
       "    <tr>\n",
       "      <th>0</th>\n",
       "      <td>2013-01-01</td>\n",
       "      <td>-123.754626</td>\n",
       "      <td>41.994986</td>\n",
       "      <td>3308</td>\n",
       "      <td>5</td>\n",
       "      <td>0</td>\n",
       "      <td>21</td>\n",
       "      <td>0</td>\n",
       "      <td>888.430303</td>\n",
       "    </tr>\n",
       "    <tr>\n",
       "      <th>1</th>\n",
       "      <td>2013-01-01</td>\n",
       "      <td>-123.750462</td>\n",
       "      <td>41.994986</td>\n",
       "      <td>3477</td>\n",
       "      <td>5</td>\n",
       "      <td>0</td>\n",
       "      <td>21</td>\n",
       "      <td>0</td>\n",
       "      <td>851.066667</td>\n",
       "    </tr>\n",
       "    <tr>\n",
       "      <th>2</th>\n",
       "      <td>2013-01-01</td>\n",
       "      <td>-123.746298</td>\n",
       "      <td>41.994986</td>\n",
       "      <td>3477</td>\n",
       "      <td>5</td>\n",
       "      <td>0</td>\n",
       "      <td>21</td>\n",
       "      <td>0</td>\n",
       "      <td>706.412121</td>\n",
       "    </tr>\n",
       "    <tr>\n",
       "      <th>3</th>\n",
       "      <td>2013-01-01</td>\n",
       "      <td>-123.742134</td>\n",
       "      <td>41.994986</td>\n",
       "      <td>4475</td>\n",
       "      <td>5</td>\n",
       "      <td>0</td>\n",
       "      <td>21</td>\n",
       "      <td>0</td>\n",
       "      <td>648.927273</td>\n",
       "    </tr>\n",
       "    <tr>\n",
       "      <th>4</th>\n",
       "      <td>2013-01-01</td>\n",
       "      <td>-123.737970</td>\n",
       "      <td>41.994986</td>\n",
       "      <td>3000</td>\n",
       "      <td>5</td>\n",
       "      <td>13707</td>\n",
       "      <td>21</td>\n",
       "      <td>0</td>\n",
       "      <td>614.103030</td>\n",
       "    </tr>\n",
       "  </tbody>\n",
       "</table>\n",
       "</div>"
      ],
      "text/plain": [
       "         Date   Longitude   Latitude   EVI  TA    LST  Wind  Fire   Elevation\n",
       "0  2013-01-01 -123.754626  41.994986  3308   5      0    21     0  888.430303\n",
       "1  2013-01-01 -123.750462  41.994986  3477   5      0    21     0  851.066667\n",
       "2  2013-01-01 -123.746298  41.994986  3477   5      0    21     0  706.412121\n",
       "3  2013-01-01 -123.742134  41.994986  4475   5      0    21     0  648.927273\n",
       "4  2013-01-01 -123.737970  41.994986  3000   5  13707    21     0  614.103030"
      ]
     },
     "execution_count": 20,
     "metadata": {},
     "output_type": "execute_result"
    }
   ],
   "source": [
    "df_2013.head()"
   ]
  },
  {
   "cell_type": "code",
   "execution_count": 21,
   "id": "8d301887-710c-4c0e-83dd-e2cc362890c9",
   "metadata": {
    "execution": {
     "iopub.execute_input": "2024-02-10T23:17:13.601000Z",
     "iopub.status.busy": "2024-02-10T23:17:13.600726Z",
     "iopub.status.idle": "2024-02-10T23:17:13.610835Z",
     "shell.execute_reply": "2024-02-10T23:17:13.608939Z",
     "shell.execute_reply.started": "2024-02-10T23:17:13.600974Z"
    }
   },
   "outputs": [
    {
     "data": {
      "text/plain": [
       "Date          object\n",
       "Longitude    float64\n",
       "Latitude     float64\n",
       "EVI            int64\n",
       "TA             int64\n",
       "LST            int64\n",
       "Wind           int64\n",
       "Fire           int64\n",
       "Elevation    float64\n",
       "dtype: object"
      ]
     },
     "execution_count": 21,
     "metadata": {},
     "output_type": "execute_result"
    }
   ],
   "source": [
    "df_2013.dtypes"
   ]
  },
  {
   "cell_type": "code",
   "execution_count": 32,
   "id": "4c382726-c7a7-4186-b920-c1d5f330a603",
   "metadata": {
    "execution": {
     "iopub.execute_input": "2024-02-10T23:44:50.424501Z",
     "iopub.status.busy": "2024-02-10T23:44:50.424070Z",
     "iopub.status.idle": "2024-02-10T23:44:55.492632Z",
     "shell.execute_reply": "2024-02-10T23:44:55.490823Z",
     "shell.execute_reply.started": "2024-02-10T23:44:50.424465Z"
    }
   },
   "outputs": [
    {
     "data": {
      "text/plain": [
       "Date            0\n",
       "Longitude       0\n",
       "Latitude        0\n",
       "EVI             0\n",
       "TA              0\n",
       "LST             0\n",
       "Wind            0\n",
       "Fire            0\n",
       "Elevation    5490\n",
       "dtype: int64"
      ]
     },
     "execution_count": 32,
     "metadata": {},
     "output_type": "execute_result"
    }
   ],
   "source": [
    "df_2020.isnull().sum()"
   ]
  },
  {
   "cell_type": "code",
   "execution_count": 33,
   "id": "0310384f-3180-4894-93d5-5c3e56cf60c1",
   "metadata": {
    "execution": {
     "iopub.execute_input": "2024-02-10T23:45:03.234824Z",
     "iopub.status.busy": "2024-02-10T23:45:03.234516Z",
     "iopub.status.idle": "2024-02-10T23:45:08.242932Z",
     "shell.execute_reply": "2024-02-10T23:45:08.241155Z",
     "shell.execute_reply.started": "2024-02-10T23:45:03.234794Z"
    }
   },
   "outputs": [
    {
     "data": {
      "text/plain": [
       "Date            0\n",
       "Longitude       0\n",
       "Latitude        0\n",
       "EVI             0\n",
       "TA              0\n",
       "LST             0\n",
       "Wind            0\n",
       "Fire            0\n",
       "Elevation    5475\n",
       "dtype: int64"
      ]
     },
     "execution_count": 33,
     "metadata": {},
     "output_type": "execute_result"
    }
   ],
   "source": [
    "df_2021.isnull().sum()"
   ]
  },
  {
   "cell_type": "code",
   "execution_count": 22,
   "id": "44d01655-5fb5-4775-a347-ff9d50e53780",
   "metadata": {
    "execution": {
     "iopub.execute_input": "2024-02-10T23:17:56.637909Z",
     "iopub.status.busy": "2024-02-10T23:17:56.637223Z",
     "iopub.status.idle": "2024-02-10T23:18:01.450689Z",
     "shell.execute_reply": "2024-02-10T23:18:01.449966Z",
     "shell.execute_reply.started": "2024-02-10T23:17:56.637844Z"
    }
   },
   "outputs": [
    {
     "data": {
      "text/plain": [
       "Date            0\n",
       "Longitude       0\n",
       "Latitude        0\n",
       "EVI             0\n",
       "TA              0\n",
       "LST             0\n",
       "Wind            0\n",
       "Fire            0\n",
       "Elevation    5475\n",
       "dtype: int64"
      ]
     },
     "execution_count": 22,
     "metadata": {},
     "output_type": "execute_result"
    }
   ],
   "source": [
    "df_2013.isnull().sum()"
   ]
  },
  {
   "cell_type": "code",
   "execution_count": 23,
   "id": "deea3486-16ed-4c4e-a23c-4b589b0d6396",
   "metadata": {
    "execution": {
     "iopub.execute_input": "2024-02-10T23:18:24.317130Z",
     "iopub.status.busy": "2024-02-10T23:18:24.316836Z",
     "iopub.status.idle": "2024-02-10T23:18:33.913683Z",
     "shell.execute_reply": "2024-02-10T23:18:33.912534Z",
     "shell.execute_reply.started": "2024-02-10T23:18:24.317103Z"
    }
   },
   "outputs": [],
   "source": [
    "# drop the rows with null values\n",
    "df_2013.dropna(axis=0, inplace=True) "
   ]
  },
  {
   "cell_type": "code",
   "execution_count": 34,
   "id": "e0907209-abc6-4774-8f40-79f06263e4d3",
   "metadata": {
    "execution": {
     "iopub.execute_input": "2024-02-10T23:45:39.553874Z",
     "iopub.status.busy": "2024-02-10T23:45:39.553580Z",
     "iopub.status.idle": "2024-02-10T23:45:59.179836Z",
     "shell.execute_reply": "2024-02-10T23:45:59.178080Z",
     "shell.execute_reply.started": "2024-02-10T23:45:39.553846Z"
    }
   },
   "outputs": [],
   "source": [
    "# drop the rows with null values\n",
    "df_2020.dropna(axis=0, inplace=True) \n",
    "df_2021.dropna(axis=0, inplace=True)"
   ]
  },
  {
   "cell_type": "code",
   "execution_count": 24,
   "id": "16bb29f9-49e8-4008-9fae-c2e8c07ff2e8",
   "metadata": {
    "execution": {
     "iopub.execute_input": "2024-02-10T23:18:49.012340Z",
     "iopub.status.busy": "2024-02-10T23:18:49.012042Z",
     "iopub.status.idle": "2024-02-10T23:18:49.641735Z",
     "shell.execute_reply": "2024-02-10T23:18:49.640861Z",
     "shell.execute_reply.started": "2024-02-10T23:18:49.012312Z"
    }
   },
   "outputs": [
    {
     "data": {
      "text/plain": [
       "TA\n",
       " 5      89101471\n",
       " 4       7857756\n",
       " 3        775239\n",
       " 9         12990\n",
       " 8          6266\n",
       "-999        6205\n",
       " 7           919\n",
       " 6            24\n",
       "Name: count, dtype: int64"
      ]
     },
     "execution_count": 24,
     "metadata": {},
     "output_type": "execute_result"
    }
   ],
   "source": [
    "df_2013.TA.value_counts()"
   ]
  },
  {
   "cell_type": "code",
   "execution_count": 25,
   "id": "8e367cc8-dd16-40a4-bc98-5e38fbf33117",
   "metadata": {
    "execution": {
     "iopub.execute_input": "2024-02-10T23:19:06.809228Z",
     "iopub.status.busy": "2024-02-10T23:19:06.808945Z",
     "iopub.status.idle": "2024-02-10T23:19:07.837419Z",
     "shell.execute_reply": "2024-02-10T23:19:07.836540Z",
     "shell.execute_reply.started": "2024-02-10T23:19:06.809200Z"
    }
   },
   "outputs": [
    {
     "data": {
      "text/plain": [
       "LST\n",
       "0        204328\n",
       "15062     58620\n",
       "15084     58367\n",
       "15060     58344\n",
       "15027     58341\n",
       "          ...  \n",
       "16888         1\n",
       "12722         1\n",
       "12553         1\n",
       "16928         1\n",
       "16822         1\n",
       "Name: count, Length: 4354, dtype: int64"
      ]
     },
     "execution_count": 25,
     "metadata": {},
     "output_type": "execute_result"
    }
   ],
   "source": [
    "df_2013.LST.value_counts()"
   ]
  },
  {
   "cell_type": "code",
   "execution_count": 26,
   "id": "cc036454-034c-49a0-a1b9-8c38de9c6088",
   "metadata": {
    "execution": {
     "iopub.execute_input": "2024-02-10T23:19:29.997244Z",
     "iopub.status.busy": "2024-02-10T23:19:29.996958Z",
     "iopub.status.idle": "2024-02-10T23:19:36.470680Z",
     "shell.execute_reply": "2024-02-10T23:19:36.469538Z",
     "shell.execute_reply.started": "2024-02-10T23:19:29.997216Z"
    }
   },
   "outputs": [],
   "source": [
    "# Drop rows where \"TA\" is -999 and \"LST\" is 0\n",
    "df_2013 = df_2013[(df_2013['TA'] != -999) & (df_2013['LST'] != 0)]"
   ]
  },
  {
   "cell_type": "code",
   "execution_count": 35,
   "id": "7daa988a-95f0-412f-ba2e-5492a6392cd5",
   "metadata": {
    "execution": {
     "iopub.execute_input": "2024-02-10T23:46:34.463094Z",
     "iopub.status.busy": "2024-02-10T23:46:34.462781Z",
     "iopub.status.idle": "2024-02-10T23:46:44.910791Z",
     "shell.execute_reply": "2024-02-10T23:46:44.908761Z",
     "shell.execute_reply.started": "2024-02-10T23:46:34.463066Z"
    }
   },
   "outputs": [],
   "source": [
    "# Drop rows where \"TA\" is -999 and \"LST\" is 0\n",
    "df_2020 = df_2020[(df_2020['TA'] != -999) & (df_2020['LST'] != 0)]\n",
    "df_2021 = df_2021[(df_2021['TA'] != -999) & (df_2021['LST'] != 0)]"
   ]
  },
  {
   "cell_type": "code",
   "execution_count": 27,
   "id": "34a74013-7802-43bf-8216-856f1be1cf4c",
   "metadata": {
    "execution": {
     "iopub.execute_input": "2024-02-10T23:19:52.348582Z",
     "iopub.status.busy": "2024-02-10T23:19:52.348152Z",
     "iopub.status.idle": "2024-02-10T23:19:57.143495Z",
     "shell.execute_reply": "2024-02-10T23:19:57.142768Z",
     "shell.execute_reply.started": "2024-02-10T23:19:52.348551Z"
    }
   },
   "outputs": [
    {
     "data": {
      "text/plain": [
       "Date         0\n",
       "Longitude    0\n",
       "Latitude     0\n",
       "EVI          0\n",
       "TA           0\n",
       "LST          0\n",
       "Wind         0\n",
       "Fire         0\n",
       "Elevation    0\n",
       "dtype: int64"
      ]
     },
     "execution_count": 27,
     "metadata": {},
     "output_type": "execute_result"
    }
   ],
   "source": [
    "# return number of missing value for each column\n",
    "df_2013.isnull().sum()"
   ]
  },
  {
   "cell_type": "code",
   "execution_count": 29,
   "id": "ef2fb301-ae32-40d7-a469-896c0630a7f4",
   "metadata": {
    "execution": {
     "iopub.execute_input": "2024-02-10T23:20:35.201022Z",
     "iopub.status.busy": "2024-02-10T23:20:35.200733Z",
     "iopub.status.idle": "2024-02-10T23:20:37.473137Z",
     "shell.execute_reply": "2024-02-10T23:20:37.472283Z",
     "shell.execute_reply.started": "2024-02-10T23:20:35.200994Z"
    }
   },
   "outputs": [],
   "source": [
    "# Drop columns that are not needed\n",
    "df_2013 = df_2013.drop(['Date', 'Longitude', 'Latitude'], axis = 1) "
   ]
  },
  {
   "cell_type": "code",
   "execution_count": 36,
   "id": "67d6a872-0140-48e8-bfa0-c735c8b854bd",
   "metadata": {
    "execution": {
     "iopub.execute_input": "2024-02-10T23:47:14.995922Z",
     "iopub.status.busy": "2024-02-10T23:47:14.995603Z",
     "iopub.status.idle": "2024-02-10T23:47:18.901475Z",
     "shell.execute_reply": "2024-02-10T23:47:18.899628Z",
     "shell.execute_reply.started": "2024-02-10T23:47:14.995892Z"
    }
   },
   "outputs": [],
   "source": [
    "# Drop columns that are not needed\n",
    "df_2020 = df_2020.drop(['Date', 'Longitude', 'Latitude'], axis = 1) \n",
    "df_2021 = df_2021.drop(['Date', 'Longitude', 'Latitude'], axis = 1) "
   ]
  },
  {
   "cell_type": "code",
   "execution_count": 30,
   "id": "cfe99f7c-d533-43ba-ba7a-33ff9055e696",
   "metadata": {
    "execution": {
     "iopub.execute_input": "2024-02-10T23:21:09.392654Z",
     "iopub.status.busy": "2024-02-10T23:21:09.392286Z",
     "iopub.status.idle": "2024-02-10T23:24:41.859724Z",
     "shell.execute_reply": "2024-02-10T23:24:41.858611Z",
     "shell.execute_reply.started": "2024-02-10T23:21:09.392626Z"
    }
   },
   "outputs": [],
   "source": [
    " # Writes DataFrame to CSV file without index\n",
    "df_2013.to_csv('output/clean_data_2013.csv', index=False) "
   ]
  },
  {
   "cell_type": "code",
   "execution_count": 37,
   "id": "092ec814-6a2c-4a94-89b3-326f17828200",
   "metadata": {
    "execution": {
     "iopub.execute_input": "2024-02-10T23:47:45.406184Z",
     "iopub.status.busy": "2024-02-10T23:47:45.405882Z",
     "iopub.status.idle": "2024-02-10T23:54:40.087254Z",
     "shell.execute_reply": "2024-02-10T23:54:40.086145Z",
     "shell.execute_reply.started": "2024-02-10T23:47:45.406157Z"
    }
   },
   "outputs": [],
   "source": [
    " # Writes DataFrame to CSV file without index\n",
    "df_2020.to_csv('output/clean_data_2020.csv', index=False)\n",
    "df_2021.to_csv('output/clean_data_2021.csv', index=False)"
   ]
  },
  {
   "cell_type": "markdown",
   "id": "a946ffc9-558c-4227-9a9b-3660c8ec8083",
   "metadata": {},
   "source": [
    "### Filter first 4 months"
   ]
  },
  {
   "cell_type": "code",
   "execution_count": 6,
   "id": "6e838e87-6bf3-4b35-97ef-60bdacf1e62d",
   "metadata": {
    "execution": {
     "iopub.execute_input": "2024-02-10T22:58:09.090099Z",
     "iopub.status.busy": "2024-02-10T22:58:09.089397Z",
     "iopub.status.idle": "2024-02-10T22:58:24.906019Z",
     "shell.execute_reply": "2024-02-10T22:58:24.905181Z",
     "shell.execute_reply.started": "2024-02-10T22:58:09.090033Z"
    }
   },
   "outputs": [],
   "source": [
    "# Filter first four months\n",
    "# Convert 'Date' column to datetime\n",
    "df_2013['Date'] = pd.to_datetime(df_2013['Date'])\n",
    "df_4months_2013 = df_2013[df_2013['Date'].dt.month <= 4]"
   ]
  },
  {
   "cell_type": "code",
   "execution_count": 9,
   "id": "bf6855e5-a429-4bd5-9a90-fe45f8b1d28d",
   "metadata": {
    "execution": {
     "iopub.execute_input": "2024-02-10T22:59:42.881855Z",
     "iopub.status.busy": "2024-02-10T22:59:42.881128Z",
     "iopub.status.idle": "2024-02-10T22:59:43.289771Z",
     "shell.execute_reply": "2024-02-10T22:59:43.289001Z",
     "shell.execute_reply.started": "2024-02-10T22:59:42.881787Z"
    }
   },
   "outputs": [
    {
     "data": {
      "text/plain": [
       "Date            0\n",
       "Longitude       0\n",
       "Latitude        0\n",
       "EVI             0\n",
       "TA              0\n",
       "LST             0\n",
       "Wind            0\n",
       "Fire            0\n",
       "Elevation    1800\n",
       "dtype: int64"
      ]
     },
     "execution_count": 9,
     "metadata": {},
     "output_type": "execute_result"
    }
   ],
   "source": [
    "# return number of missing value for each column\n",
    "df_4months_2013.isnull().sum()"
   ]
  },
  {
   "cell_type": "code",
   "execution_count": 11,
   "id": "6c1ecd35-cc58-4f3c-a1b2-2353304f6147",
   "metadata": {
    "execution": {
     "iopub.execute_input": "2024-02-10T23:00:05.185690Z",
     "iopub.status.busy": "2024-02-10T23:00:05.185011Z",
     "iopub.status.idle": "2024-02-10T23:00:07.033892Z",
     "shell.execute_reply": "2024-02-10T23:00:07.032935Z",
     "shell.execute_reply.started": "2024-02-10T23:00:05.185626Z"
    }
   },
   "outputs": [],
   "source": [
    "# drop the rows with null values\n",
    "df_4months_2013.dropna(axis=0, inplace=True) "
   ]
  },
  {
   "cell_type": "code",
   "execution_count": 12,
   "id": "4d753387-72a2-4a45-99f5-a4ea371f0a60",
   "metadata": {
    "execution": {
     "iopub.execute_input": "2024-02-10T23:00:26.760363Z",
     "iopub.status.busy": "2024-02-10T23:00:26.760059Z",
     "iopub.status.idle": "2024-02-10T23:00:26.991657Z",
     "shell.execute_reply": "2024-02-10T23:00:26.990604Z",
     "shell.execute_reply.started": "2024-02-10T23:00:26.760335Z"
    }
   },
   "outputs": [
    {
     "data": {
      "text/plain": [
       "TA\n",
       " 5      27344844\n",
       " 4       4557761\n",
       " 3        235345\n",
       "-999        2040\n",
       " 8           293\n",
       " 9           265\n",
       " 7            12\n",
       "Name: count, dtype: int64"
      ]
     },
     "execution_count": 12,
     "metadata": {},
     "output_type": "execute_result"
    }
   ],
   "source": [
    "df_4months_2013.TA.value_counts()"
   ]
  },
  {
   "cell_type": "code",
   "execution_count": 13,
   "id": "1e63b657-14a8-4e4c-8a7e-4ab54a40efc5",
   "metadata": {
    "execution": {
     "iopub.execute_input": "2024-02-10T23:01:07.781254Z",
     "iopub.status.busy": "2024-02-10T23:01:07.780798Z",
     "iopub.status.idle": "2024-02-10T23:01:08.115108Z",
     "shell.execute_reply": "2024-02-10T23:01:08.114335Z",
     "shell.execute_reply.started": "2024-02-10T23:01:07.781211Z"
    }
   },
   "outputs": [
    {
     "data": {
      "text/plain": [
       "LST\n",
       "0        85461\n",
       "14297    28518\n",
       "14326    28460\n",
       "14231    28452\n",
       "14293    28449\n",
       "         ...  \n",
       "12619        1\n",
       "12569        1\n",
       "16377        1\n",
       "12564        1\n",
       "12501        1\n",
       "Name: count, Length: 3866, dtype: int64"
      ]
     },
     "execution_count": 13,
     "metadata": {},
     "output_type": "execute_result"
    }
   ],
   "source": [
    "df_4months_2013.LST.value_counts()"
   ]
  },
  {
   "cell_type": "code",
   "execution_count": 14,
   "id": "0f134efe-396e-4a59-9b9b-a4a3e41a5242",
   "metadata": {
    "execution": {
     "iopub.execute_input": "2024-02-10T23:01:21.660629Z",
     "iopub.status.busy": "2024-02-10T23:01:21.660269Z",
     "iopub.status.idle": "2024-02-10T23:01:23.325579Z",
     "shell.execute_reply": "2024-02-10T23:01:23.324600Z",
     "shell.execute_reply.started": "2024-02-10T23:01:21.660601Z"
    }
   },
   "outputs": [],
   "source": [
    "# Drop rows where \"TA\" is -999 and \"LST\" is 0\n",
    "df_4months_2013 = df_4months_2013[(df_4months_2013['TA'] != -999) & (df_4months_2013['LST'] != 0)]"
   ]
  },
  {
   "cell_type": "code",
   "execution_count": 15,
   "id": "11324958-d4a8-41c2-8b89-55ab36115d99",
   "metadata": {
    "execution": {
     "iopub.execute_input": "2024-02-10T23:01:36.696566Z",
     "iopub.status.busy": "2024-02-10T23:01:36.696188Z",
     "iopub.status.idle": "2024-02-10T23:01:37.178838Z",
     "shell.execute_reply": "2024-02-10T23:01:37.178068Z",
     "shell.execute_reply.started": "2024-02-10T23:01:36.696537Z"
    }
   },
   "outputs": [
    {
     "data": {
      "text/plain": [
       "Date         0\n",
       "Longitude    0\n",
       "Latitude     0\n",
       "EVI          0\n",
       "TA           0\n",
       "LST          0\n",
       "Wind         0\n",
       "Fire         0\n",
       "Elevation    0\n",
       "dtype: int64"
      ]
     },
     "execution_count": 15,
     "metadata": {},
     "output_type": "execute_result"
    }
   ],
   "source": [
    "# return number of missing value for each column\n",
    "df_4months_2013.isnull().sum()"
   ]
  },
  {
   "cell_type": "code",
   "execution_count": 16,
   "id": "3e853e95-d3cf-40d9-92dd-b1bbaac3b33a",
   "metadata": {
    "execution": {
     "iopub.execute_input": "2024-02-10T23:02:25.029239Z",
     "iopub.status.busy": "2024-02-10T23:02:25.028953Z",
     "iopub.status.idle": "2024-02-10T23:02:25.588597Z",
     "shell.execute_reply": "2024-02-10T23:02:25.587574Z",
     "shell.execute_reply.started": "2024-02-10T23:02:25.029211Z"
    }
   },
   "outputs": [],
   "source": [
    "# Drop columns that are not needed\n",
    "df_4months_2013 = df_4months_2013.drop(['Date', 'Longitude', 'Latitude'], axis = 1) "
   ]
  },
  {
   "cell_type": "code",
   "execution_count": 17,
   "id": "26ebbeea-9b45-4764-ba3d-cdf2a4705c92",
   "metadata": {
    "execution": {
     "iopub.execute_input": "2024-02-10T23:03:01.156751Z",
     "iopub.status.busy": "2024-02-10T23:03:01.156463Z",
     "iopub.status.idle": "2024-02-10T23:04:09.582029Z",
     "shell.execute_reply": "2024-02-10T23:04:09.581202Z",
     "shell.execute_reply.started": "2024-02-10T23:03:01.156723Z"
    }
   },
   "outputs": [],
   "source": [
    " # Writes DataFrame to CSV file without index\n",
    "df_4months_2013.to_csv('output/clean_data_4months_2013.csv', index=False) "
   ]
  },
  {
   "cell_type": "code",
   "execution_count": null,
   "id": "5b5c2b4a-ae23-4beb-9ded-1f6f0efc936f",
   "metadata": {},
   "outputs": [],
   "source": []
  }
 ],
 "metadata": {
  "kernelspec": {
   "display_name": "COMP491",
   "language": "python",
   "name": "comp491"
  },
  "language_info": {
   "codemirror_mode": {
    "name": "ipython",
    "version": 3
   },
   "file_extension": ".py",
   "mimetype": "text/x-python",
   "name": "python",
   "nbconvert_exporter": "python",
   "pygments_lexer": "ipython3",
   "version": "3.10.12"
  }
 },
 "nbformat": 4,
 "nbformat_minor": 5
}
